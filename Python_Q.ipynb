{
 "cells": [
  {
   "cell_type": "code",
   "execution_count": null,
   "id": "83b99267",
   "metadata": {},
   "outputs": [],
   "source": [
    "from collections import defaultdict\n",
    "import string\n",
    "import numpy as np\n",
    "\n",
    "def simple_mapreduce(map_fn, reduce_fn, kvin):\n",
    "    keyvalues = defaultdict(list)\n",
    "    for k, v in kvin:\n",
    "        for outk, outv in map_fn(k, v):\n",
    "            keyvalues[outk] += [outv]\n",
    "    kvout = []\n",
    "    for k, vs in keyvalues.items():\n",
    "        for outk, outv in reduce_fn(k, vs):\n",
    "            kvout += [(outk, outv)]\n",
    "    return kvout"
   ]
  },
  {
   "cell_type": "code",
   "execution_count": null,
   "id": "bcb7b7ed",
   "metadata": {},
   "outputs": [],
   "source": [
    "speech_dataset = [\n",
    "    (\"emmeline pankhurst\", \"\"\"You have left it to women in your land, the men of all civilised countries have left it to women, to work out their own salvation. That is the way in which we women of England are doing. Human life for us is sacred, but we say if any life is to be sacrificed it shall be ours; we won’t do it ourselves, but we will put the enemy in the position where they will have to choose between giving us freedom or giving us death.\"\"\"),\n",
    "    (\"gettysburg address\", \"\"\"Four score and seven years ago our fathers brought forth on this continent, a new nation, conceived in Liberty, and dedicated to the proposition that all men are created equal. Now we are engaged in a great civil war, testing whether that nation, or any nation so conceived and so dedicated, can long endure. We are met on a great battle-field of that war. We have come to dedicate a portion of that field, as a final resting place for those who here gave their lives that that nation might live. It is altogether fitting and proper that we should do this.  But, in a larger sense, we can not dedicate -- we can not consecrate -- we can not hallow -- this ground. The brave men, living and dead, who struggled here, have consecrated it, far above our poor power to add or detract. The world will little note, nor long remember what we say here, but it can never forget what they did here. It is for us the living, rather, to be dedicated here to the unfinished work which they who fought here have thus far so nobly advanced. It is rather for us to be here dedicated to the great task remaining before us -- that from these honored dead we take increased devotion to that cause for which they gave the last full measure of devotion -- that we here highly resolve that these dead shall not have died in vain -- that this nation, under God, shall have a new birth of freedom -- and that government of the people, by the people, for the people, shall not perish from the earth.\"\"\"),\n",
    "    (\"churchill address\", \"\"\"I have, myself, full confidence that if all do their duty, if nothing is neglected, and if the best arrangements are made, as they are being made, we shall prove ourselves once again able to defend our Island home, to ride out the storm of war, and to outlive the menace of tyranny, if necessary for years, if necessary alone. At any rate, that is what we are going to try to do. That is the resolve of His Majesty's Government-every man of them. That is the will of Parliament and the nation. The British Empire and the French Republic, linked together in their cause and in their need, will defend to the death their native soil, aiding each other like good comrades to the utmost of their strength. Even though large tracts of Europe and many old and famous States have fallen or may fall into the grip of the Gestapo and all the odious apparatus of Nazi rule, we shall not flag or fail. We shall go on to the end, we shall fight in France, we shall fight on the seas and oceans, we shall fight with growing confidence and growing strength in the air, we shall defend our Island, whatever the cost may be, we shall fight on the beaches, we shall fight on the landing grounds, we shall fight in the fields and in the streets, we shall fight in the hills; we shall never surrender, and even if, which I do not for a moment believe, this Island or a large part of it were subjugated and starving, then our Empire beyond the seas, armed and guarded by the British Fleet, would carry on the struggle, until, in God's good time, the New World, with all its power and might, steps forth to the rescue and the liberation of the old.\"\"\"),\n",
    "    (\"mlk dream\", \"\"\"    I have a dream that one day down in Alabama, with its vicious racists, with its governor having his lips dripping with the words of interposition and nullification – one day right there in Alabama little black boys and black girls will be able to join hands with little white boys and white girls as sisters and brothers.    I have a dream today.  I have a dream that one day every valley shall be exalted and every hill and mountain shall be made low, the rough places will be made plain, and the crooked places will be made straight, and the glory of the Lord shall be revealed and all flesh shall see it together.\"\"\"),\n",
    "    (\"hrc human rights\", \"\"\"‘If there is one message that echoes forth from this conference, let it be that human rights are women’s rights and women’s rights are human rights once and for all. Let us not forget that among those rights are the right to speak freely — and the right to be heard.’\"\"\")\n",
    "]\n"
   ]
  },
  {
   "cell_type": "code",
   "execution_count": null,
   "id": "5daecc47",
   "metadata": {},
   "outputs": [],
   "source": [
    "#Example usage\n",
    "#k = title, v = text of speech\n",
    "def ex1_map1(k, v):\n",
    "    words = v.lower().split()  # simple tokenization, split by whitespaces\n",
    "    for word in words:\n",
    "        yield word, 1\n",
    "    \n",
    "# k = bigram, values = 1 for each bigram\n",
    "def ex1_reduce1(k, values):\n",
    "    yield k, sum(values)\n",
    "    \n",
    "sorted(simple_mapreduce(ex1_map1, ex1_reduce1, speech_dataset), key=lambda x: -x[1])\n",
    "#Example usage"
   ]
  },
  {
   "cell_type": "code",
   "execution_count": null,
   "id": "dfc68e3d",
   "metadata": {},
   "outputs": [],
   "source": [
    "#Q1 below\n",
    "#create a 2 step mapreduce function that first calculates the occurrence of bigrams \n",
    "#in a second step calculates the average occurrence of bigrams that start with a particular letter. \n",
    "#Replace the pass's with your code\n"
   ]
  },
  {
   "cell_type": "code",
   "execution_count": null,
   "id": "1f13cb26",
   "metadata": {},
   "outputs": [],
   "source": [
    "# you may use this function that converts a string of text into bigrams THE -> th he\n",
    "\n",
    "def make_bigrams(text):\n",
    "    just_txt = [c.lower() for c in text if c in string.ascii_letters]\n",
    "    bigrams = [a + b for a,b in zip(just_txt[:-1], just_txt[1:])]\n",
    "    return bigrams\n",
    "\n",
    "#k = title, v = text\n",
    "def q1_map1(k, v):\n",
    "    bigrams = make_bigrams(v)\n",
    "    for bigram in bigrams:\n",
    "        yield bigram, 1\n",
    "\n",
    "# k = bigram, values = 1 for each bigram\n",
    "def q1_map1(k, v):\n",
    "    bigrams = make_bigrams(v)\n",
    "    for bigram in bigrams:\n",
    "        yield bigram, 1\n",
    "\n",
    "# k = bigram, values = 1 for each bigram\n",
    "def q1_reduce1(k, values):    \n",
    "    yield k, sum(values)\n",
    "\n",
    "# k = bigram, v the count for each bigram    \n",
    "def q1_map2(k, v):\n",
    "    yield k[0], v\n",
    "        \n",
    "# k = the first letter of the bigram, v = a list of the # of bigrams that start with k  \n",
    "def q1_reduce2(k, values):\n",
    "    avg = sum(values)/len(values)\n",
    "    yield k + '*', avg\n",
    "\n",
    "    \n",
    "first_stage = simple_mapreduce(q1_map1, q1_reduce1, speech_dataset)\n",
    "bigram_final = simple_mapreduce(q1_map2, q1_reduce2, first_stage)\n",
    "\n",
    "bigram_final"
   ]
  },
  {
   "cell_type": "code",
   "execution_count": null,
   "id": "d5bd4c45",
   "metadata": {},
   "outputs": [],
   "source": [
    "bigram_expected = [\n",
    " ('y*', 2.7058823529411766),\n",
    " ('o*', 10.826086956521738),\n",
    " ('u*', 6.090909090909091),\n",
    " ('h*', 17.923076923076923),\n",
    " ('a*', 14.95),\n",
    " ('v*', 14.25),\n",
    " ('e*', 19.82608695652174),\n",
    " ('l*', 9.0),\n",
    " ('f*', 6.5),\n",
    " ('t*', 17.05),\n",
    " ('i*', 13.166666666666666),\n",
    " ('w*', 9.555555555555555),\n",
    " ('m*', 6.777777777777778),\n",
    " ('n*', 11.6),\n",
    " ('r*', 9.952380952380953),\n",
    " ('d*', 8.105263157894736),\n",
    " ('c*', 7.2),\n",
    " ('s*', 8.428571428571429),\n",
    " ('k*', 1.4285714285714286),\n",
    " ('g*', 5.9375),\n",
    " ('b*', 5.333333333333333),\n",
    " ('p*', 4.222222222222222),\n",
    " ('q*', 1.0),\n",
    " ('j*', 1.0),\n",
    " ('z*', 1.0),\n",
    " ('x*', 1.0)\n",
    "]\n",
    "\n",
    "sorted(bigram_expected) == sorted(bigram_final)"
   ]
  },
  {
   "cell_type": "code",
   "execution_count": null,
   "id": "680fb882",
   "metadata": {},
   "outputs": [],
   "source": [
    "#Q2\n",
    "#The input given to you describes a dataset of nodes connected to each other via edges. \n",
    "#An example of such a network could be the Twitter follower network, in which the users denote nodes and \n",
    "#two nodes are connected by an edge if one follows the other.\n",
    "#The degree of a node in a network is the number of connections it has to other nodes.\n",
    "#The degree distribution is the distribution of these degrees over the whole network."
   ]
  },
  {
   "cell_type": "code",
   "execution_count": null,
   "id": "e40d95f2",
   "metadata": {},
   "outputs": [],
   "source": [
    "'''%matplotlib inline \n",
    "import sys\n",
    "import matplotlib.pyplot as plt\n",
    " \n",
    "plt.axis(\"off\")\n",
    "plt.scatter( [0, 0, 1, 0], [1, 0, 0, -1], s=1000, marker='o')\n",
    "# Annotate with text + Arrow\n",
    "plt.plot([0, 0], [-1, 1], c=\"r\", zorder=-1)\n",
    "plt.plot([0, 1], [0, 0],  c=\"r\", zorder=-1)\n",
    "plt.plot([0, 1], [-1, 0], c=\"r\", zorder=-1)\n",
    "\n",
    "\n",
    "plt.annotate('A', xy=(0, 0), xytext=(0, 0), c=\"w\")\n",
    "plt.annotate('B', xy=(1, 0), xytext=(1, 0), c=\"w\")\n",
    "plt.annotate('C', xy=(0, -1), xytext=(0, -1), c=\"w\")\n",
    "plt.annotate('D', xy=(0, 1), xytext=(0, 1), c=\"w\")'''"
   ]
  },
  {
   "cell_type": "code",
   "execution_count": null,
   "id": "ffe68ab5",
   "metadata": {},
   "outputs": [],
   "source": [
    "network_dataset = [\n",
    "    ('A', 'B'),\n",
    "    ('A', 'C'),\n",
    "    ('A', 'D'),\n",
    "    ('B', 'C'),\n",
    "]\n",
    "\n",
    "network_expected = [\n",
    "    (3, 1),\n",
    "    (2, 2),\n",
    "    (1, 1)\n",
    "]"
   ]
  },
  {
   "cell_type": "code",
   "execution_count": null,
   "id": "0688d7ac",
   "metadata": {},
   "outputs": [],
   "source": [
    "#write the body of the following functions: (replace the pass's with your code"
   ]
  },
  {
   "cell_type": "code",
   "execution_count": null,
   "id": "1449bcd6",
   "metadata": {},
   "outputs": [],
   "source": [
    "# k=source node, v=destination node\n",
    "def q2_map1(k, v):\n",
    "    yield k, v\n",
    "    yield v, k\n",
    "    \n",
    "def q2_reduce1(k, values):\n",
    "    yield k, len(values)\n",
    "    \n",
    "def q2_map2(k, v):\n",
    "    yield v, 1\n",
    "\n",
    "def q2_reduce2(k, values):\n",
    "    yield k, sum(values)\n",
    "\n",
    "first_stage = simple_mapreduce(q2_map1, q2_reduce1, network_dataset)\n",
    "network_final = simple_mapreduce(q2_map2, q2_reduce2, first_stage)\n",
    "\n",
    "network_final"
   ]
  },
  {
   "cell_type": "code",
   "execution_count": null,
   "id": "1a1bb766",
   "metadata": {},
   "outputs": [],
   "source": [
    "\n",
    "sorted(network_expected) == sorted(network_final)"
   ]
  }
 ],
 "metadata": {
  "kernelspec": {
   "display_name": "Python 3.11.0 64-bit",
   "language": "python",
   "name": "python3"
  },
  "language_info": {
   "codemirror_mode": {
    "name": "ipython",
    "version": 3
   },
   "file_extension": ".py",
   "mimetype": "text/x-python",
   "name": "python",
   "nbconvert_exporter": "python",
   "pygments_lexer": "ipython3",
   "version": "3.11.0"
  },
  "vscode": {
   "interpreter": {
    "hash": "5238573367df39f7286bb46f9ff5f08f63a01a80960060ce41e3c79b190280fa"
   }
  }
 },
 "nbformat": 4,
 "nbformat_minor": 5
}
